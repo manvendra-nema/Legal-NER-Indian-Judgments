{
 "cells": [
  {
   "cell_type": "code",
   "execution_count": 1,
   "metadata": {
    "id": "G23Q70qAAPz9"
   },
   "outputs": [],
   "source": [
    "import torch\n",
    "import torch.nn as nn\n",
    "import torch.optim as optim\n",
    "from torch.utils.data import DataLoader, TensorDataset\n",
    "from sklearn.metrics import f1_score\n",
    "import numpy as np\n",
    "import matplotlib.pyplot as plt\n",
    "from gensim.models import KeyedVectors\n",
    "from tqdm import tqdm\n",
    "import json\n",
    "import fasttext"
   ]
  },
  {
   "cell_type": "code",
   "execution_count": 2,
   "metadata": {
    "id": "ghA0PtdeEdse"
   },
   "outputs": [],
   "source": [
    "with open(r\"data/NER_Train.json\", 'r') as f:\n",
    "    train_data = json.load(f)\n",
    "\n",
    "with open(r'data/NER_Val.json', 'r') as f:\n",
    "    val_data = json.load(f)\n",
    "    \n",
    "with open(r'data/NER_Test.json', 'r') as f:\n",
    "    test_data = json.load(f)"
   ]
  },
  {
   "cell_type": "code",
   "execution_count": 3,
   "metadata": {},
   "outputs": [
    {
     "name": "stdout",
     "output_type": "stream",
     "text": [
      "Loading Glove Model\n",
      "400000 words loaded!\n"
     ]
    }
   ],
   "source": [
    "def load_glove_model(File):\n",
    "    print(\"Loading Glove Model\")\n",
    "    glove_model = {}\n",
    "    with open(File,'r') as f:\n",
    "        for line in f:\n",
    "            split_line = line.split()\n",
    "            word = split_line[0]\n",
    "            embedding = np.array(split_line[1:], dtype=np.float64)\n",
    "            glove_model[word] = embedding\n",
    "    print(f\"{len(glove_model)} words loaded!\")\n",
    "    return glove_model\n",
    "\n",
    "# Path to your GloVe pre-trained embeddings file\n",
    "glove_file_path = 'glove.6B.300d.txt'\n",
    "\n",
    "# Load GloVe embeddings\n",
    "model = load_glove_model(glove_file_path)"
   ]
  },
  {
   "cell_type": "code",
   "execution_count": 4,
   "metadata": {},
   "outputs": [
    {
     "name": "stdout",
     "output_type": "stream",
     "text": [
      "[-3.3712e-01 -2.1691e-01 -6.6365e-03 -4.1625e-01 -1.2555e+00 -2.8466e-02\n",
      " -7.2195e-01 -5.2887e-01  7.2085e-03  3.1997e-01  2.9425e-02 -1.3236e-02\n",
      "  4.3511e-01  2.5716e-01  3.8995e-01 -1.1968e-01  1.5035e-01  4.4762e-01\n",
      "  2.8407e-01  4.9339e-01  6.2826e-01  2.2888e-01 -4.0385e-01  2.7364e-02\n",
      "  7.3679e-03  1.3995e-01  2.3346e-01  6.8122e-02  4.8422e-01 -1.9578e-02\n",
      " -5.4751e-01 -5.4983e-01 -3.4091e-02  8.0017e-03 -4.3065e-01 -1.8969e-02\n",
      " -8.5670e-02 -8.1123e-01 -2.1080e-01  3.7784e-01 -3.5046e-01  1.3684e-01\n",
      " -5.5661e-01  1.6835e-01 -2.2952e-01 -1.6184e-01  6.7345e-01 -4.6597e-01\n",
      " -3.1834e-02 -2.6037e-01 -1.7797e-01  1.9436e-02  1.0727e-01  6.6534e-01\n",
      " -3.4836e-01  4.7833e-02  1.6440e-01  1.4088e-01  1.9204e-01 -3.5009e-01\n",
      "  2.6236e-01  1.7626e-01 -3.1367e-01  1.1709e-01  2.0378e-01  6.1775e-01\n",
      "  4.9075e-01 -7.5210e-02 -1.1815e-01  1.8685e-01  4.0679e-01  2.8319e-01\n",
      " -1.6290e-01  3.8388e-02  4.3794e-01  8.8224e-02  5.9046e-01 -5.3515e-02\n",
      "  3.8819e-02  1.8202e-01 -2.7599e-01  3.9474e-01 -2.0499e-01  1.7411e-01\n",
      "  1.0315e-01  2.5117e-01 -3.6542e-01  3.6528e-01  2.2448e-01 -9.7551e-01\n",
      "  9.4505e-02 -1.7859e-01 -3.0688e-01 -5.8633e-01 -1.8526e-01  3.9565e-02\n",
      " -4.2309e-01 -1.5715e-01  2.0401e-01  1.6906e-01  3.4465e-01 -4.2262e-01\n",
      "  1.9553e-01  5.9454e-01 -3.0531e-01 -1.0633e-01 -1.9055e-01 -5.8544e-01\n",
      "  2.1357e-01  3.8414e-01  9.1499e-02  3.8353e-01  2.9075e-01  2.4519e-02\n",
      "  2.8440e-01  6.3715e-02 -1.5483e-01  4.0031e-01  3.1543e-01 -3.7128e-02\n",
      "  6.3363e-02 -2.7090e-01  2.5160e-01  4.7105e-01  4.9556e-01 -3.6401e-01\n",
      "  1.0370e-01  4.6076e-02  1.6565e-01 -2.9024e-01 -6.6949e-02 -3.0881e-01\n",
      "  4.8263e-01  3.0972e-01 -1.1145e-01 -1.0329e-01  2.8585e-02 -1.3579e-01\n",
      "  5.2924e-01 -1.4077e-01  9.1763e-02  1.3127e-01 -2.0944e-01  2.2327e-02\n",
      " -7.7692e-02  7.7934e-02 -3.3067e-02  1.1680e-01  3.2029e-01  3.7749e-01\n",
      " -7.5679e-01 -1.5944e-01  1.4964e-01  4.2253e-01  2.8136e-03  2.1328e-01\n",
      "  8.6776e-02 -5.2704e-02 -4.0859e-01 -1.1774e-01  9.0621e-02 -2.3794e-01\n",
      " -1.8326e-01  1.3115e-01 -5.5949e-01  9.2071e-02 -3.9504e-02  1.3334e-01\n",
      "  4.9632e-01  2.8733e-01 -1.8544e-01  2.4618e-02 -4.2826e-01  7.4148e-02\n",
      "  7.6584e-04  2.3950e-01  2.2615e-01  5.5166e-02 -7.5096e-02 -2.2308e-01\n",
      "  2.3775e-01 -4.5455e-01  2.6564e-01 -1.5137e-01 -2.4146e-01 -2.4736e-01\n",
      "  5.5214e-01  2.6819e-01  4.8831e-01 -1.3423e-01 -1.5918e-01  3.7606e-01\n",
      " -1.9834e-01  1.6699e-01 -1.5368e-01  2.4561e-01 -9.2506e-02 -3.0257e-01\n",
      " -2.9493e-01 -7.4917e-01  1.0567e+00  3.7971e-01  6.9314e-01 -3.1672e-02\n",
      "  2.1588e-01 -4.0739e-01 -1.5264e-01  3.2296e-01 -1.2999e-01 -5.0129e-01\n",
      " -4.4231e-01  1.6904e-02 -1.1459e-02  7.2293e-03  1.1026e-01  2.1568e-01\n",
      " -3.2373e-01 -3.7292e-01 -9.2456e-03 -2.6769e-01  3.9066e-01  3.5742e-01\n",
      " -6.0632e-02  6.7966e-02  3.3830e-01  6.5747e-02  1.5794e-01  4.7155e-02\n",
      "  2.3682e-01 -9.1370e-02  6.4649e-01 -2.5491e-01 -6.7940e-01 -6.9752e-01\n",
      " -1.0145e-01 -3.6255e-01  3.6967e-01 -4.1295e-01  8.2724e-02 -3.5053e-01\n",
      " -1.7564e-01  8.5095e-02 -5.7724e-01  5.0252e-01  5.2180e-01  5.7327e-02\n",
      " -7.9754e-01 -3.7770e-01  7.8149e-01  2.4597e-01  6.0672e-01 -2.0082e-01\n",
      " -3.8792e-01  4.1295e-01 -1.6143e-01  1.0427e-02  4.3197e-01  4.6297e-03\n",
      "  2.1185e-01 -2.6606e-01 -5.8740e-02 -5.1003e-01  2.8524e-01  1.3627e-02\n",
      " -2.7346e-01  6.1848e-02 -5.7901e-01 -5.1136e-01  3.6382e-01  3.5144e-01\n",
      " -1.6501e-01 -4.6041e-01 -6.4742e-02 -6.8310e-01 -4.7427e-02  1.5861e-01\n",
      " -4.7288e-01  3.3968e-01  1.2092e-03  1.6018e-01 -5.8024e-01  1.4556e-01\n",
      " -9.1317e-01 -3.7592e-01 -3.2950e-01  5.3465e-01  1.8224e-01 -5.2265e-01\n",
      " -2.6209e-01 -4.2458e-01 -1.8034e-01  9.9502e-02 -1.5114e-01 -6.6731e-01\n",
      "  2.4483e-01 -5.6630e-01  3.3843e-01  4.0558e-01  1.8073e-01  6.4250e-01]\n"
     ]
    }
   ],
   "source": [
    "word_embedding = model.get('hello')\n",
    "print(word_embedding)"
   ]
  },
  {
   "cell_type": "code",
   "execution_count": 5,
   "metadata": {
    "colab": {
     "base_uri": "https://localhost:8080/",
     "height": 315
    },
    "id": "InZSatFeEOhS",
    "outputId": "5d028bba-953b-471a-c003-8c3ab7aad05b"
   },
   "outputs": [],
   "source": [
    "\n",
    "def convert_data_to_tensors(data, model):\n",
    "    texts = [data[key]['text'] for key in data]\n",
    "\n",
    "    # Convert texts to word embeddings\n",
    "    embeddings = []\n",
    "    for text in texts:\n",
    "        embedding = []\n",
    "        for word in text.split():\n",
    "            # Check if word exists in the model's vocabulary\n",
    "            if word in model:\n",
    "                embedding.append(model[word])\n",
    "            else:\n",
    "                # If word not found, use zero vector\n",
    "                embedding.append([0] * model[\"hello\"].size)\n",
    "        embeddings.append(embedding)\n",
    "\n",
    "    # Pad sequences to have the same length\n",
    "    max_len = 70  # maximum length of word in a text\n",
    "    padded_embeddings = []\n",
    "    for embedding in embeddings:\n",
    "        padded_embedding = embedding + [[0] * model[\"hello\"].size] * (max_len - len(embedding))\n",
    "        padded_embeddings.append(padded_embedding)\n",
    "\n",
    "    # Filter out None values\n",
    "    padded_embeddings = [embedding for embedding in padded_embeddings if embedding is not None]\n",
    "\n",
    "    # Convert to tensor\n",
    "    input_ids = torch.tensor(padded_embeddings, dtype=torch.float32)\n",
    "\n",
    "    return input_ids"
   ]
  },
  {
   "cell_type": "code",
   "execution_count": 6,
   "metadata": {},
   "outputs": [
    {
     "name": "stderr",
     "output_type": "stream",
     "text": [
      "/tmp/ipykernel_50365/601243325.py:28: UserWarning: Creating a tensor from a list of numpy.ndarrays is extremely slow. Please consider converting the list to a single numpy.ndarray with numpy.array() before converting to a tensor. (Triggered internally at /opt/conda/conda-bld/pytorch_1708025845868/work/torch/csrc/utils/tensor_new.cpp:275.)\n",
      "  input_ids = torch.tensor(padded_embeddings, dtype=torch.float32)\n"
     ]
    }
   ],
   "source": [
    "\n",
    "x_train = convert_data_to_tensors(train_data, model)\n",
    "x_val = convert_data_to_tensors(val_data, model)\n",
    "x_test = convert_data_to_tensors(test_data, model)"
   ]
  },
  {
   "cell_type": "code",
   "execution_count": 7,
   "metadata": {
    "scrolled": true
   },
   "outputs": [
    {
     "data": {
      "text/plain": [
       "torch.Size([8019, 70, 300])"
      ]
     },
     "execution_count": 7,
     "metadata": {},
     "output_type": "execute_result"
    }
   ],
   "source": [
    "x_train.size()"
   ]
  },
  {
   "cell_type": "code",
   "execution_count": 8,
   "metadata": {},
   "outputs": [],
   "source": [
    "# unique_labels = set()\n",
    "# for example in train_data.values():\n",
    "#     unique_labels.update(example['labels'])\n",
    "# for example in test_data.values():\n",
    "#     unique_labels.update(example['labels'])\n",
    "# for example in val_data.values():\n",
    "#     unique_labels.update(example['labels'])\n",
    "# unique_labels.remove('O')\n",
    "# label_to_index = {label: idx for idx, label in enumerate(unique_labels)}\n",
    "# label_to_index['O'] = max(label_to_index.values()) +1\n",
    "# print((label_to_index))"
   ]
  },
  {
   "cell_type": "code",
   "execution_count": 9,
   "metadata": {},
   "outputs": [],
   "source": [
    "def convert_labels_to_fixed_length(labels, max_length):\n",
    "    label_to_index = {'I_WITNESS': 0, 'B_JUDGE': 1, 'I_CASE_NUMBER': 2, 'B_CASE_NUMBER': 3, 'I_PROVISION': 4, 'B_STATUTE': 5, 'I_DATE': 6, 'I_STATUTE': 7, 'B_WITNESS': 8, 'B_DATE': 9, 'I_RESPONDENT': 10, 'B_PRECEDENT': 11, 'B_GPE': 12, 'I_ORG': 13, 'I_PETITIONER': 14, 'B_PROVISION': 15, 'B_ORG': 16, 'I_JUDGE': 17, 'I_OTHER_PERSON': 18, 'B_COURT': 19, 'B_PETITIONER': 20, 'B_RESPONDENT': 21, 'I_PRECEDENT': 22, 'I_COURT': 23, 'I_GPE': 24, 'B_OTHER_PERSON': 25, 'O': 26, '<pad>':27}\n",
    "    new_list=[]\n",
    "    num_labels = len(label_to_index)\n",
    "    fixed_length_labels = np.zeros((len(labels), max_length))\n",
    "    for i, example_labels in enumerate(labels):\n",
    "        for j, label in enumerate(example_labels[:max_length]):\n",
    "            fixed_length_labels[i, j] = label_to_index[label]\n",
    "        for k in range(len(example_labels[:max_length]),max_length):\n",
    "            fixed_length_labels[i, k] = 27\n",
    "        new_list.append(len(example_labels[:max_length]))\n",
    "    return fixed_length_labels,new_list\n",
    "\n",
    "max_length = 70\n",
    "train_labels = [train_data[key]['labels'] for key in train_data]\n",
    "train_lab,length_train = convert_labels_to_fixed_length(train_labels, max_length)\n",
    "y_train = torch.tensor(train_lab)\n",
    "\n",
    "\n",
    "val_labels = [val_data[key]['labels'] for key in val_data]\n",
    "val_lab,length_val = convert_labels_to_fixed_length(val_labels, max_length)\n",
    "y_val = torch.tensor(val_lab)\n",
    "\n",
    "test_labels = [test_data[key]['labels'] for key in test_data]\n",
    "test_lab,length_test = convert_labels_to_fixed_length(test_labels, max_length)\n",
    "y_test = torch.tensor(test_lab)"
   ]
  },
  {
   "cell_type": "code",
   "execution_count": 10,
   "metadata": {},
   "outputs": [
    {
     "data": {
      "text/plain": [
       "torch.Size([8019, 70])"
      ]
     },
     "execution_count": 10,
     "metadata": {},
     "output_type": "execute_result"
    }
   ],
   "source": [
    "y_train.size()"
   ]
  },
  {
   "cell_type": "code",
   "execution_count": 11,
   "metadata": {},
   "outputs": [
    {
     "name": "stdout",
     "output_type": "stream",
     "text": [
      "GPU not available, CPU used\n"
     ]
    },
    {
     "name": "stderr",
     "output_type": "stream",
     "text": [
      "/home/bsumit43/anaconda3/envs/myenv/lib/python3.11/site-packages/torch/cuda/__init__.py:141: UserWarning: CUDA initialization: CUDA unknown error - this may be due to an incorrectly set up environment, e.g. changing env variable CUDA_VISIBLE_DEVICES after program start. Setting the available devices to be zero. (Triggered internally at /opt/conda/conda-bld/pytorch_1708025845868/work/c10/cuda/CUDAFunctions.cpp:108.)\n",
      "  return torch._C._cuda_getDeviceCount() > 0\n"
     ]
    }
   ],
   "source": [
    "is_cuda = torch.cuda.is_available()\n",
    "\n",
    "# If we have a GPU available, we'll set our device to GPU. We'll use this device variable later in our code.\n",
    "if is_cuda:\n",
    "    device = torch.device(\"cuda\")\n",
    "    print(\"GPU is available\")\n",
    "else:\n",
    "    device = torch.device(\"cpu\")\n",
    "    print(\"GPU not available, CPU used\")"
   ]
  },
  {
   "cell_type": "code",
   "execution_count": 12,
   "metadata": {},
   "outputs": [
    {
     "name": "stderr",
     "output_type": "stream",
     "text": [
      "/tmp/ipykernel_50365/3909336609.py:7: UserWarning: To copy construct from a tensor, it is recommended to use sourceTensor.clone().detach() or sourceTensor.clone().detach().requires_grad_(True), rather than torch.tensor(sourceTensor).\n",
      "  X_train_tensor = torch.tensor(x_train, dtype=torch.float32)\n",
      "/tmp/ipykernel_50365/3909336609.py:8: UserWarning: To copy construct from a tensor, it is recommended to use sourceTensor.clone().detach() or sourceTensor.clone().detach().requires_grad_(True), rather than torch.tensor(sourceTensor).\n",
      "  y_train_tensor = torch.tensor(y_train, dtype=torch.long)\n",
      "/tmp/ipykernel_50365/3909336609.py:9: UserWarning: To copy construct from a tensor, it is recommended to use sourceTensor.clone().detach() or sourceTensor.clone().detach().requires_grad_(True), rather than torch.tensor(sourceTensor).\n",
      "  X_val_tensor = torch.tensor(x_val, dtype=torch.float32)\n",
      "/tmp/ipykernel_50365/3909336609.py:10: UserWarning: To copy construct from a tensor, it is recommended to use sourceTensor.clone().detach() or sourceTensor.clone().detach().requires_grad_(True), rather than torch.tensor(sourceTensor).\n",
      "  y_val_tensor = torch.tensor(y_val, dtype=torch.long)\n",
      "  1%|▎                                          | 1/130 [00:03<06:36,  3.07s/it]"
     ]
    },
    {
     "name": "stdout",
     "output_type": "stream",
     "text": [
      "Epoch 1/130, Train Loss: 1.231437255465795, Val Loss: 0.9043072462081909, Val F1: 0.040684564414234244, Train F1: 0.03652354653934742\n"
     ]
    },
    {
     "name": "stderr",
     "output_type": "stream",
     "text": [
      "  2%|▋                                          | 2/130 [00:05<06:20,  2.97s/it]"
     ]
    },
    {
     "name": "stdout",
     "output_type": "stream",
     "text": [
      "Epoch 2/130, Train Loss: 0.8522928716644408, Val Loss: 0.7884743809700012, Val F1: 0.053157237261149834, Train F1: 0.049807579965257\n"
     ]
    },
    {
     "name": "stderr",
     "output_type": "stream",
     "text": [
      "  2%|▉                                          | 3/130 [00:08<06:16,  2.97s/it]"
     ]
    },
    {
     "name": "stdout",
     "output_type": "stream",
     "text": [
      "Epoch 3/130, Train Loss: 0.7461975784528823, Val Loss: 0.6960731744766235, Val F1: 0.11120228458335095, Train F1: 0.07850724111146548\n"
     ]
    },
    {
     "name": "stderr",
     "output_type": "stream",
     "text": [
      "  3%|█▎                                         | 4/130 [00:11<06:10,  2.94s/it]"
     ]
    },
    {
     "name": "stdout",
     "output_type": "stream",
     "text": [
      "Epoch 4/130, Train Loss: 0.6700166558462476, Val Loss: 0.6332331299781799, Val F1: 0.1295196377952428, Train F1: 0.12451706260292031\n"
     ]
    },
    {
     "name": "stderr",
     "output_type": "stream",
     "text": [
      "  4%|█▋                                         | 5/130 [00:14<06:05,  2.93s/it]"
     ]
    },
    {
     "name": "stdout",
     "output_type": "stream",
     "text": [
      "Epoch 5/130, Train Loss: 0.618051667062063, Val Loss: 0.5921667814254761, Val F1: 0.1495417530225447, Train F1: 0.14533082621527493\n"
     ]
    },
    {
     "name": "stderr",
     "output_type": "stream",
     "text": [
      "  5%|█▉                                         | 6/130 [00:17<06:02,  2.92s/it]"
     ]
    },
    {
     "name": "stdout",
     "output_type": "stream",
     "text": [
      "Epoch 6/130, Train Loss: 0.5829912267980122, Val Loss: 0.5631147623062134, Val F1: 0.16856260389658542, Train F1: 0.16438447278775706\n"
     ]
    },
    {
     "name": "stderr",
     "output_type": "stream",
     "text": [
      "  5%|██▎                                        | 7/130 [00:20<05:58,  2.92s/it]"
     ]
    },
    {
     "name": "stdout",
     "output_type": "stream",
     "text": [
      "Epoch 7/130, Train Loss: 0.5547626349661086, Val Loss: 0.5427761673927307, Val F1: 0.18852756568952825, Train F1: 0.18048448873766554\n"
     ]
    },
    {
     "name": "stderr",
     "output_type": "stream",
     "text": [
      "  6%|██▋                                        | 8/130 [00:23<05:55,  2.91s/it]"
     ]
    },
    {
     "name": "stdout",
     "output_type": "stream",
     "text": [
      "Epoch 8/130, Train Loss: 0.5324543402308509, Val Loss: 0.523155927658081, Val F1: 0.19722001200398928, Train F1: 0.19299521391741514\n"
     ]
    },
    {
     "name": "stderr",
     "output_type": "stream",
     "text": [
      "  7%|██▉                                        | 9/130 [00:26<05:52,  2.91s/it]"
     ]
    },
    {
     "name": "stdout",
     "output_type": "stream",
     "text": [
      "Epoch 9/130, Train Loss: 0.5132785278653341, Val Loss: 0.508221447467804, Val F1: 0.20649327110340668, Train F1: 0.2042419713310682\n"
     ]
    },
    {
     "name": "stderr",
     "output_type": "stream",
     "text": [
      "  8%|███▏                                      | 10/130 [00:29<05:48,  2.90s/it]"
     ]
    },
    {
     "name": "stdout",
     "output_type": "stream",
     "text": [
      "Epoch 10/130, Train Loss: 0.4983865140922486, Val Loss: 0.49812430143356323, Val F1: 0.2014491619841785, Train F1: 0.21218536281278852\n"
     ]
    },
    {
     "name": "stderr",
     "output_type": "stream",
     "text": [
      "  8%|███▌                                      | 11/130 [00:32<05:45,  2.90s/it]"
     ]
    },
    {
     "name": "stdout",
     "output_type": "stream",
     "text": [
      "Epoch 11/130, Train Loss: 0.48594339120955693, Val Loss: 0.4893767237663269, Val F1: 0.21398178237907145, Train F1: 0.21793572219556068\n"
     ]
    },
    {
     "name": "stderr",
     "output_type": "stream",
     "text": [
      "  9%|███▉                                      | 12/130 [00:35<05:45,  2.92s/it]"
     ]
    },
    {
     "name": "stdout",
     "output_type": "stream",
     "text": [
      "Epoch 12/130, Train Loss: 0.4765565778527941, Val Loss: 0.48352372646331787, Val F1: 0.21478443167068825, Train F1: 0.22686056413297248\n"
     ]
    },
    {
     "name": "stderr",
     "output_type": "stream",
     "text": [
      " 10%|████▏                                     | 13/130 [00:38<05:41,  2.92s/it]"
     ]
    },
    {
     "name": "stdout",
     "output_type": "stream",
     "text": [
      "Epoch 13/130, Train Loss: 0.46748785698224626, Val Loss: 0.47887465357780457, Val F1: 0.2259721126015629, Train F1: 0.23346647206811952\n"
     ]
    },
    {
     "name": "stderr",
     "output_type": "stream",
     "text": [
      " 11%|████▌                                     | 14/130 [00:40<05:37,  2.91s/it]"
     ]
    },
    {
     "name": "stdout",
     "output_type": "stream",
     "text": [
      "Epoch 14/130, Train Loss: 0.4592868960092938, Val Loss: 0.4752464294433594, Val F1: 0.2380215964409763, Train F1: 0.23849448761273526\n"
     ]
    },
    {
     "name": "stderr",
     "output_type": "stream",
     "text": [
      " 12%|████▊                                     | 15/130 [00:43<05:34,  2.91s/it]"
     ]
    },
    {
     "name": "stdout",
     "output_type": "stream",
     "text": [
      "Epoch 15/130, Train Loss: 0.45160390554912505, Val Loss: 0.4720822870731354, Val F1: 0.2295295716491259, Train F1: 0.24696443206060326\n"
     ]
    },
    {
     "name": "stderr",
     "output_type": "stream",
     "text": [
      " 12%|█████▏                                    | 16/130 [00:46<05:31,  2.91s/it]"
     ]
    },
    {
     "name": "stdout",
     "output_type": "stream",
     "text": [
      "Epoch 16/130, Train Loss: 0.44556345021913923, Val Loss: 0.469694584608078, Val F1: 0.23691937939536659, Train F1: 0.2530216223578875\n"
     ]
    },
    {
     "name": "stderr",
     "output_type": "stream",
     "text": [
      " 13%|█████▍                                    | 17/130 [00:49<05:29,  2.91s/it]"
     ]
    },
    {
     "name": "stdout",
     "output_type": "stream",
     "text": [
      "Epoch 17/130, Train Loss: 0.4381484876549433, Val Loss: 0.47029900550842285, Val F1: 0.2274428947853645, Train F1: 0.25637201512058855\n"
     ]
    },
    {
     "name": "stderr",
     "output_type": "stream",
     "text": [
      " 14%|█████▊                                    | 18/130 [00:52<05:25,  2.91s/it]"
     ]
    },
    {
     "name": "stdout",
     "output_type": "stream",
     "text": [
      "Epoch 18/130, Train Loss: 0.4313968136197045, Val Loss: 0.4699530303478241, Val F1: 0.22913149246324174, Train F1: 0.26705585079915145\n"
     ]
    },
    {
     "name": "stderr",
     "output_type": "stream",
     "text": [
      " 15%|██████▏                                   | 19/130 [00:55<05:22,  2.91s/it]"
     ]
    },
    {
     "name": "stdout",
     "output_type": "stream",
     "text": [
      "Epoch 19/130, Train Loss: 0.42705188667963423, Val Loss: 0.4662056863307953, Val F1: 0.254413781298287, Train F1: 0.2708259077347127\n"
     ]
    },
    {
     "name": "stderr",
     "output_type": "stream",
     "text": [
      " 15%|██████▍                                   | 20/130 [00:58<05:19,  2.91s/it]"
     ]
    },
    {
     "name": "stdout",
     "output_type": "stream",
     "text": [
      "Epoch 20/130, Train Loss: 0.4216565541804783, Val Loss: 0.4663093388080597, Val F1: 0.25154712440539523, Train F1: 0.273157969361251\n"
     ]
    },
    {
     "name": "stderr",
     "output_type": "stream",
     "text": [
      " 16%|██████▊                                   | 21/130 [01:01<05:16,  2.91s/it]"
     ]
    },
    {
     "name": "stdout",
     "output_type": "stream",
     "text": [
      "Epoch 21/130, Train Loss: 0.4145319296254052, Val Loss: 0.4667279124259949, Val F1: 0.269168590161256, Train F1: 0.28279506189988773\n"
     ]
    },
    {
     "name": "stderr",
     "output_type": "stream",
     "text": [
      " 17%|███████                                   | 22/130 [01:04<05:13,  2.91s/it]"
     ]
    },
    {
     "name": "stdout",
     "output_type": "stream",
     "text": [
      "Epoch 22/130, Train Loss: 0.40960588672804454, Val Loss: 0.46730247139930725, Val F1: 0.24757362676545316, Train F1: 0.28810383233510817\n"
     ]
    },
    {
     "name": "stderr",
     "output_type": "stream",
     "text": [
      " 18%|███████▍                                  | 23/130 [01:07<05:12,  2.92s/it]"
     ]
    },
    {
     "name": "stdout",
     "output_type": "stream",
     "text": [
      "Epoch 23/130, Train Loss: 0.40385712186495465, Val Loss: 0.4689081013202667, Val F1: 0.2642226011524296, Train F1: 0.2940784365237077\n"
     ]
    },
    {
     "name": "stderr",
     "output_type": "stream",
     "text": [
      " 18%|███████▊                                  | 24/130 [01:10<05:09,  2.92s/it]"
     ]
    },
    {
     "name": "stdout",
     "output_type": "stream",
     "text": [
      "Epoch 24/130, Train Loss: 0.3987565291306329, Val Loss: 0.4703308343887329, Val F1: 0.2508878537004699, Train F1: 0.29822589446229825\n"
     ]
    },
    {
     "name": "stderr",
     "output_type": "stream",
     "text": [
      " 19%|████████                                  | 25/130 [01:12<05:07,  2.92s/it]"
     ]
    },
    {
     "name": "stdout",
     "output_type": "stream",
     "text": [
      "Epoch 25/130, Train Loss: 0.3922809518518902, Val Loss: 0.4708500802516937, Val F1: 0.27156481445416225, Train F1: 0.3075986103057285\n"
     ]
    },
    {
     "name": "stderr",
     "output_type": "stream",
     "text": [
      " 20%|████████▍                                 | 26/130 [01:15<05:03,  2.92s/it]"
     ]
    },
    {
     "name": "stdout",
     "output_type": "stream",
     "text": [
      "Epoch 26/130, Train Loss: 0.3870435489548577, Val Loss: 0.4738653004169464, Val F1: 0.265229212081751, Train F1: 0.31410295343570943\n"
     ]
    },
    {
     "name": "stderr",
     "output_type": "stream",
     "text": [
      " 21%|████████▋                                 | 27/130 [01:18<05:00,  2.92s/it]"
     ]
    },
    {
     "name": "stdout",
     "output_type": "stream",
     "text": [
      "Epoch 27/130, Train Loss: 0.38070405759508646, Val Loss: 0.4805195927619934, Val F1: 0.2462265440112171, Train F1: 0.3222687584580821\n"
     ]
    },
    {
     "name": "stderr",
     "output_type": "stream",
     "text": [
      " 22%|█████████                                 | 28/130 [01:21<05:00,  2.95s/it]"
     ]
    },
    {
     "name": "stdout",
     "output_type": "stream",
     "text": [
      "Epoch 28/130, Train Loss: 0.3763351875638205, Val Loss: 0.4785115718841553, Val F1: 0.2799850628685862, Train F1: 0.3273715051552312\n"
     ]
    },
    {
     "name": "stderr",
     "output_type": "stream",
     "text": [
      " 22%|█████████▎                                | 29/130 [01:24<04:56,  2.93s/it]"
     ]
    },
    {
     "name": "stdout",
     "output_type": "stream",
     "text": [
      "Epoch 29/130, Train Loss: 0.3695631443508088, Val Loss: 0.4871412515640259, Val F1: 0.2639675553014284, Train F1: 0.33263742561168413\n"
     ]
    },
    {
     "name": "stderr",
     "output_type": "stream",
     "text": [
      " 23%|█████████▋                                | 30/130 [01:27<04:52,  2.93s/it]"
     ]
    },
    {
     "name": "stdout",
     "output_type": "stream",
     "text": [
      "Epoch 30/130, Train Loss: 0.36464195639368085, Val Loss: 0.4847799837589264, Val F1: 0.27707680786310496, Train F1: 0.3423765371463004\n"
     ]
    },
    {
     "name": "stderr",
     "output_type": "stream",
     "text": [
      " 24%|██████████                                | 31/130 [01:30<04:48,  2.91s/it]"
     ]
    },
    {
     "name": "stdout",
     "output_type": "stream",
     "text": [
      "Epoch 31/130, Train Loss: 0.3604103038235316, Val Loss: 0.49892914295196533, Val F1: 0.26327904383131795, Train F1: 0.3505810545941195\n"
     ]
    },
    {
     "name": "stderr",
     "output_type": "stream",
     "text": [
      " 25%|██████████▎                               | 32/130 [01:33<04:44,  2.90s/it]"
     ]
    },
    {
     "name": "stdout",
     "output_type": "stream",
     "text": [
      "Epoch 32/130, Train Loss: 0.35503389154161724, Val Loss: 0.4932471811771393, Val F1: 0.26430353853204214, Train F1: 0.3574685260488886\n"
     ]
    },
    {
     "name": "stderr",
     "output_type": "stream",
     "text": [
      " 25%|██████████▋                               | 33/130 [01:36<04:40,  2.90s/it]"
     ]
    },
    {
     "name": "stdout",
     "output_type": "stream",
     "text": [
      "Epoch 33/130, Train Loss: 0.3499430001728118, Val Loss: 0.493024617433548, Val F1: 0.2674317484157588, Train F1: 0.3585522861072387\n"
     ]
    },
    {
     "name": "stderr",
     "output_type": "stream",
     "text": [
      " 26%|██████████▉                               | 34/130 [01:39<04:39,  2.91s/it]"
     ]
    },
    {
     "name": "stdout",
     "output_type": "stream",
     "text": [
      "Epoch 34/130, Train Loss: 0.343997260407796, Val Loss: 0.49901121854782104, Val F1: 0.27551275943465464, Train F1: 0.3690821468178325\n"
     ]
    },
    {
     "name": "stderr",
     "output_type": "stream",
     "text": [
      " 27%|███████████▎                              | 35/130 [01:42<04:36,  2.91s/it]"
     ]
    },
    {
     "name": "stdout",
     "output_type": "stream",
     "text": [
      "Epoch 35/130, Train Loss: 0.3384216186546144, Val Loss: 0.5014179348945618, Val F1: 0.27464118532992043, Train F1: 0.37513378707077405\n"
     ]
    },
    {
     "name": "stderr",
     "output_type": "stream",
     "text": [
      " 28%|███████████▋                              | 36/130 [01:45<04:32,  2.90s/it]"
     ]
    },
    {
     "name": "stdout",
     "output_type": "stream",
     "text": [
      "Epoch 36/130, Train Loss: 0.3335734752435533, Val Loss: 0.5114539861679077, Val F1: 0.2619238734623082, Train F1: 0.38456632818614034\n"
     ]
    },
    {
     "name": "stderr",
     "output_type": "stream",
     "text": [
      " 28%|███████████▉                              | 37/130 [01:47<04:28,  2.89s/it]"
     ]
    },
    {
     "name": "stdout",
     "output_type": "stream",
     "text": [
      "Epoch 37/130, Train Loss: 0.3290228711234199, Val Loss: 0.5130799412727356, Val F1: 0.28179510978695627, Train F1: 0.3856714190650079\n"
     ]
    },
    {
     "name": "stderr",
     "output_type": "stream",
     "text": [
      " 29%|████████████▎                             | 38/130 [01:50<04:25,  2.88s/it]"
     ]
    },
    {
     "name": "stdout",
     "output_type": "stream",
     "text": [
      "Epoch 38/130, Train Loss: 0.32392318381203544, Val Loss: 0.5323982238769531, Val F1: 0.25368530606055073, Train F1: 0.3923814583469846\n"
     ]
    },
    {
     "name": "stderr",
     "output_type": "stream",
     "text": [
      " 30%|████████████▌                             | 39/130 [01:53<04:22,  2.88s/it]"
     ]
    },
    {
     "name": "stdout",
     "output_type": "stream",
     "text": [
      "Epoch 39/130, Train Loss: 0.3173996333091978, Val Loss: 0.5298596620559692, Val F1: 0.27555147923326284, Train F1: 0.40603021407271095\n"
     ]
    },
    {
     "name": "stderr",
     "output_type": "stream",
     "text": [
      " 31%|████████████▉                             | 40/130 [01:56<04:19,  2.88s/it]"
     ]
    },
    {
     "name": "stdout",
     "output_type": "stream",
     "text": [
      "Epoch 40/130, Train Loss: 0.3126740536046407, Val Loss: 0.5477165579795837, Val F1: 0.26389094354327297, Train F1: 0.41047180113427156\n"
     ]
    },
    {
     "name": "stderr",
     "output_type": "stream",
     "text": [
      " 32%|█████████████▏                            | 41/130 [01:59<04:15,  2.87s/it]"
     ]
    },
    {
     "name": "stdout",
     "output_type": "stream",
     "text": [
      "Epoch 41/130, Train Loss: 0.3075956924567147, Val Loss: 0.5490277409553528, Val F1: 0.2663295648944816, Train F1: 0.4211926513090894\n"
     ]
    },
    {
     "name": "stderr",
     "output_type": "stream",
     "text": [
      " 32%|█████████████▌                            | 42/130 [02:02<04:12,  2.87s/it]"
     ]
    },
    {
     "name": "stdout",
     "output_type": "stream",
     "text": [
      "Epoch 42/130, Train Loss: 0.30381654605032904, Val Loss: 0.5594565868377686, Val F1: 0.2719704881325662, Train F1: 0.4269305366271573\n"
     ]
    },
    {
     "name": "stderr",
     "output_type": "stream",
     "text": [
      " 33%|█████████████▉                            | 43/130 [02:05<04:10,  2.88s/it]"
     ]
    },
    {
     "name": "stdout",
     "output_type": "stream",
     "text": [
      "Epoch 43/130, Train Loss: 0.2989404244082315, Val Loss: 0.5666463971138, Val F1: 0.2645054994128192, Train F1: 0.43276758895980955\n"
     ]
    },
    {
     "name": "stderr",
     "output_type": "stream",
     "text": [
      " 34%|██████████████▏                           | 44/130 [02:07<04:07,  2.88s/it]"
     ]
    },
    {
     "name": "stdout",
     "output_type": "stream",
     "text": [
      "Epoch 44/130, Train Loss: 0.2936609342457756, Val Loss: 0.5555804371833801, Val F1: 0.2730602536199901, Train F1: 0.44117641346544845\n"
     ]
    },
    {
     "name": "stderr",
     "output_type": "stream",
     "text": [
      " 35%|██████████████▌                           | 45/130 [02:10<04:06,  2.90s/it]"
     ]
    },
    {
     "name": "stdout",
     "output_type": "stream",
     "text": [
      "Epoch 45/130, Train Loss: 0.2936572257488493, Val Loss: 0.560089111328125, Val F1: 0.27639654631963007, Train F1: 0.44479257650061266\n"
     ]
    },
    {
     "name": "stderr",
     "output_type": "stream",
     "text": [
      " 35%|██████████████▊                           | 46/130 [02:13<04:02,  2.89s/it]"
     ]
    },
    {
     "name": "stdout",
     "output_type": "stream",
     "text": [
      "Epoch 46/130, Train Loss: 0.28737531342203654, Val Loss: 0.5669193267822266, Val F1: 0.28481253578626825, Train F1: 0.4545329639135566\n"
     ]
    },
    {
     "name": "stderr",
     "output_type": "stream",
     "text": [
      " 36%|███████████████▏                          | 47/130 [02:16<03:59,  2.88s/it]"
     ]
    },
    {
     "name": "stdout",
     "output_type": "stream",
     "text": [
      "Epoch 47/130, Train Loss: 0.28174515943678596, Val Loss: 0.5765551924705505, Val F1: 0.28004919106378656, Train F1: 0.4628939003548392\n"
     ]
    },
    {
     "name": "stderr",
     "output_type": "stream",
     "text": [
      " 37%|███████████████▌                          | 48/130 [02:19<03:55,  2.88s/it]"
     ]
    },
    {
     "name": "stdout",
     "output_type": "stream",
     "text": [
      "Epoch 48/130, Train Loss: 0.2771129941656476, Val Loss: 0.588864266872406, Val F1: 0.2746602261801342, Train F1: 0.47125037437038736\n"
     ]
    },
    {
     "name": "stderr",
     "output_type": "stream",
     "text": [
      " 38%|███████████████▊                          | 49/130 [02:22<03:52,  2.88s/it]"
     ]
    },
    {
     "name": "stdout",
     "output_type": "stream",
     "text": [
      "Epoch 49/130, Train Loss: 0.2721335071892965, Val Loss: 0.6094228029251099, Val F1: 0.2681743462906149, Train F1: 0.479197305835939\n"
     ]
    },
    {
     "name": "stderr",
     "output_type": "stream",
     "text": [
      " 38%|████████████████▏                         | 50/130 [02:25<03:50,  2.88s/it]"
     ]
    },
    {
     "name": "stdout",
     "output_type": "stream",
     "text": [
      "Epoch 50/130, Train Loss: 0.26695842165795586, Val Loss: 0.616385281085968, Val F1: 0.2692292101623148, Train F1: 0.4844366680637013\n"
     ]
    },
    {
     "name": "stderr",
     "output_type": "stream",
     "text": [
      " 39%|████████████████▍                         | 51/130 [02:28<03:46,  2.87s/it]"
     ]
    },
    {
     "name": "stdout",
     "output_type": "stream",
     "text": [
      "Epoch 51/130, Train Loss: 0.2643146983214787, Val Loss: 0.6169218420982361, Val F1: 0.27854301122364467, Train F1: 0.49181421336703196\n"
     ]
    },
    {
     "name": "stderr",
     "output_type": "stream",
     "text": [
      " 40%|████████████████▊                         | 52/130 [02:31<03:44,  2.87s/it]"
     ]
    },
    {
     "name": "stdout",
     "output_type": "stream",
     "text": [
      "Epoch 52/130, Train Loss: 0.25969870837907943, Val Loss: 0.6316848993301392, Val F1: 0.26523541852041005, Train F1: 0.5045932186483313\n"
     ]
    },
    {
     "name": "stderr",
     "output_type": "stream",
     "text": [
      " 41%|█████████████████                         | 53/130 [02:33<03:41,  2.87s/it]"
     ]
    },
    {
     "name": "stdout",
     "output_type": "stream",
     "text": [
      "Epoch 53/130, Train Loss: 0.25491067294090514, Val Loss: 0.6453855633735657, Val F1: 0.2653783224101925, Train F1: 0.5031830435028791\n"
     ]
    },
    {
     "name": "stderr",
     "output_type": "stream",
     "text": [
      " 42%|█████████████████▍                        | 54/130 [02:36<03:38,  2.87s/it]"
     ]
    },
    {
     "name": "stdout",
     "output_type": "stream",
     "text": [
      "Epoch 54/130, Train Loss: 0.2545889736641021, Val Loss: 0.6630572080612183, Val F1: 0.25765000275115874, Train F1: 0.5126588166656609\n"
     ]
    },
    {
     "name": "stderr",
     "output_type": "stream",
     "text": [
      " 42%|█████████████████▊                        | 55/130 [02:39<03:35,  2.87s/it]"
     ]
    },
    {
     "name": "stdout",
     "output_type": "stream",
     "text": [
      "Epoch 55/130, Train Loss: 0.25221720195951913, Val Loss: 0.6446508765220642, Val F1: 0.2621550509041746, Train F1: 0.5178235270505914\n"
     ]
    },
    {
     "name": "stderr",
     "output_type": "stream",
     "text": [
      " 43%|██████████████████                        | 56/130 [02:42<03:33,  2.89s/it]"
     ]
    },
    {
     "name": "stdout",
     "output_type": "stream",
     "text": [
      "Epoch 56/130, Train Loss: 0.2451394928826226, Val Loss: 0.6604571342468262, Val F1: 0.2657368439143019, Train F1: 0.5316297340915318\n"
     ]
    },
    {
     "name": "stderr",
     "output_type": "stream",
     "text": [
      " 44%|██████████████████▍                       | 57/130 [02:45<03:30,  2.88s/it]"
     ]
    },
    {
     "name": "stdout",
     "output_type": "stream",
     "text": [
      "Epoch 57/130, Train Loss: 0.23934461956932432, Val Loss: 0.6690801978111267, Val F1: 0.2676956656026792, Train F1: 0.5363393206856183\n"
     ]
    },
    {
     "name": "stderr",
     "output_type": "stream",
     "text": [
      " 45%|██████████████████▋                       | 58/130 [02:48<03:27,  2.88s/it]"
     ]
    },
    {
     "name": "stdout",
     "output_type": "stream",
     "text": [
      "Epoch 58/130, Train Loss: 0.23801839872012062, Val Loss: 0.6732796430587769, Val F1: 0.28013546997374, Train F1: 0.5426649052707174\n"
     ]
    },
    {
     "name": "stderr",
     "output_type": "stream",
     "text": [
      " 45%|███████████████████                       | 59/130 [02:51<03:24,  2.88s/it]"
     ]
    },
    {
     "name": "stdout",
     "output_type": "stream",
     "text": [
      "Epoch 59/130, Train Loss: 0.23491072394545115, Val Loss: 0.6918887495994568, Val F1: 0.26180044923488727, Train F1: 0.5502941300008263\n"
     ]
    },
    {
     "name": "stderr",
     "output_type": "stream",
     "text": [
      " 46%|███████████████████▍                      | 60/130 [02:54<03:21,  2.88s/it]"
     ]
    },
    {
     "name": "stdout",
     "output_type": "stream",
     "text": [
      "Epoch 60/130, Train Loss: 0.23125972586964805, Val Loss: 0.7017987370491028, Val F1: 0.2676320329458105, Train F1: 0.5597647227420218\n"
     ]
    },
    {
     "name": "stderr",
     "output_type": "stream",
     "text": [
      " 47%|███████████████████▋                      | 61/130 [02:56<03:18,  2.87s/it]"
     ]
    },
    {
     "name": "stdout",
     "output_type": "stream",
     "text": [
      "Epoch 61/130, Train Loss: 0.2267316255777601, Val Loss: 0.7268686890602112, Val F1: 0.2572785408188379, Train F1: 0.5646623252843314\n"
     ]
    },
    {
     "name": "stderr",
     "output_type": "stream",
     "text": [
      " 48%|████████████████████                      | 62/130 [02:59<03:15,  2.87s/it]"
     ]
    },
    {
     "name": "stdout",
     "output_type": "stream",
     "text": [
      "Epoch 62/130, Train Loss: 0.22327180041207206, Val Loss: 0.7343001365661621, Val F1: 0.26100264770836806, Train F1: 0.5765068771669423\n"
     ]
    },
    {
     "name": "stderr",
     "output_type": "stream",
     "text": [
      " 48%|████████████████████▎                     | 63/130 [03:02<03:12,  2.87s/it]"
     ]
    },
    {
     "name": "stdout",
     "output_type": "stream",
     "text": [
      "Epoch 63/130, Train Loss: 0.22187648027662246, Val Loss: 0.7448318004608154, Val F1: 0.2586201966338846, Train F1: 0.5810436941583279\n"
     ]
    },
    {
     "name": "stderr",
     "output_type": "stream",
     "text": [
      " 49%|████████████████████▋                     | 64/130 [03:05<03:09,  2.87s/it]"
     ]
    },
    {
     "name": "stdout",
     "output_type": "stream",
     "text": [
      "Epoch 64/130, Train Loss: 0.21808456475772556, Val Loss: 0.7363911271095276, Val F1: 0.2676309845980993, Train F1: 0.5824572517158577\n"
     ]
    },
    {
     "name": "stderr",
     "output_type": "stream",
     "text": [
      " 50%|█████████████████████                     | 65/130 [03:08<03:06,  2.87s/it]"
     ]
    },
    {
     "name": "stdout",
     "output_type": "stream",
     "text": [
      "Epoch 65/130, Train Loss: 0.21668944377747792, Val Loss: 0.7509680986404419, Val F1: 0.26463403963835525, Train F1: 0.5873583429624948\n"
     ]
    },
    {
     "name": "stderr",
     "output_type": "stream",
     "text": [
      " 51%|█████████████████████▎                    | 66/130 [03:11<03:03,  2.87s/it]"
     ]
    },
    {
     "name": "stdout",
     "output_type": "stream",
     "text": [
      "Epoch 66/130, Train Loss: 0.21245301171900735, Val Loss: 0.7649441361427307, Val F1: 0.2574175997237042, Train F1: 0.5918776749318224\n"
     ]
    },
    {
     "name": "stderr",
     "output_type": "stream",
     "text": [
      " 52%|█████████████████████▋                    | 67/130 [03:14<03:02,  2.89s/it]"
     ]
    },
    {
     "name": "stdout",
     "output_type": "stream",
     "text": [
      "Epoch 67/130, Train Loss: 0.20860516835772802, Val Loss: 0.7734091281890869, Val F1: 0.26150052238359695, Train F1: 0.6103824629951686\n"
     ]
    },
    {
     "name": "stderr",
     "output_type": "stream",
     "text": [
      " 52%|█████████████████████▉                    | 68/130 [03:17<02:58,  2.88s/it]"
     ]
    },
    {
     "name": "stdout",
     "output_type": "stream",
     "text": [
      "Epoch 68/130, Train Loss: 0.20644173428179727, Val Loss: 0.800091564655304, Val F1: 0.255290080212394, Train F1: 0.6079693298657048\n"
     ]
    },
    {
     "name": "stderr",
     "output_type": "stream",
     "text": [
      " 53%|██████████████████████▎                   | 69/130 [03:19<02:55,  2.88s/it]"
     ]
    },
    {
     "name": "stdout",
     "output_type": "stream",
     "text": [
      "Epoch 69/130, Train Loss: 0.20408201028430273, Val Loss: 0.8054718375205994, Val F1: 0.2539906041028088, Train F1: 0.6169291322987842\n"
     ]
    },
    {
     "name": "stderr",
     "output_type": "stream",
     "text": [
      " 54%|██████████████████████▌                   | 70/130 [03:22<02:52,  2.87s/it]"
     ]
    },
    {
     "name": "stdout",
     "output_type": "stream",
     "text": [
      "Epoch 70/130, Train Loss: 0.20157768234374032, Val Loss: 0.828093409538269, Val F1: 0.24350291371272875, Train F1: 0.6217980048074051\n"
     ]
    },
    {
     "name": "stderr",
     "output_type": "stream",
     "text": [
      " 55%|██████████████████████▉                   | 71/130 [03:25<02:49,  2.87s/it]"
     ]
    },
    {
     "name": "stdout",
     "output_type": "stream",
     "text": [
      "Epoch 71/130, Train Loss: 0.20115143888526493, Val Loss: 0.820414662361145, Val F1: 0.2581558935475891, Train F1: 0.625770466989115\n"
     ]
    },
    {
     "name": "stderr",
     "output_type": "stream",
     "text": [
      " 55%|███████████████████████▎                  | 72/130 [03:28<02:46,  2.88s/it]"
     ]
    },
    {
     "name": "stdout",
     "output_type": "stream",
     "text": [
      "Epoch 72/130, Train Loss: 0.20065937865348088, Val Loss: 0.8190012574195862, Val F1: 0.25680941172467653, Train F1: 0.6251073631976065\n"
     ]
    },
    {
     "name": "stderr",
     "output_type": "stream",
     "text": [
      " 56%|███████████████████████▌                  | 73/130 [03:31<02:43,  2.88s/it]"
     ]
    },
    {
     "name": "stdout",
     "output_type": "stream",
     "text": [
      "Epoch 73/130, Train Loss: 0.2058513509848761, Val Loss: 0.8097752928733826, Val F1: 0.26094042449095345, Train F1: 0.6191924194386591\n"
     ]
    },
    {
     "name": "stderr",
     "output_type": "stream",
     "text": [
      " 57%|███████████████████████▉                  | 74/130 [03:34<02:40,  2.87s/it]"
     ]
    },
    {
     "name": "stdout",
     "output_type": "stream",
     "text": [
      "Epoch 74/130, Train Loss: 0.19546119088218325, Val Loss: 0.832200825214386, Val F1: 0.25786966351298063, Train F1: 0.6373165329318987\n"
     ]
    },
    {
     "name": "stderr",
     "output_type": "stream",
     "text": [
      " 58%|████████████████████████▏                 | 75/130 [03:37<02:38,  2.88s/it]"
     ]
    },
    {
     "name": "stdout",
     "output_type": "stream",
     "text": [
      "Epoch 75/130, Train Loss: 0.18893765125955855, Val Loss: 0.8605889678001404, Val F1: 0.25370087916681744, Train F1: 0.648269615731882\n"
     ]
    },
    {
     "name": "stderr",
     "output_type": "stream",
     "text": [
      " 58%|████████████████████████▌                 | 76/130 [03:40<02:35,  2.88s/it]"
     ]
    },
    {
     "name": "stdout",
     "output_type": "stream",
     "text": [
      "Epoch 76/130, Train Loss: 0.1884293681572354, Val Loss: 0.8503319621086121, Val F1: 0.2532756828137901, Train F1: 0.6533911161770829\n"
     ]
    },
    {
     "name": "stderr",
     "output_type": "stream",
     "text": [
      " 59%|████████████████████████▉                 | 77/130 [03:42<02:32,  2.88s/it]"
     ]
    },
    {
     "name": "stdout",
     "output_type": "stream",
     "text": [
      "Epoch 77/130, Train Loss: 0.18430779992587984, Val Loss: 0.8590816259384155, Val F1: 0.26179841791374575, Train F1: 0.6587508077169502\n"
     ]
    },
    {
     "name": "stderr",
     "output_type": "stream",
     "text": [
      " 60%|█████████████████████████▏                | 78/130 [03:45<02:31,  2.90s/it]"
     ]
    },
    {
     "name": "stdout",
     "output_type": "stream",
     "text": [
      "Epoch 78/130, Train Loss: 0.1813930088565463, Val Loss: 0.8696340322494507, Val F1: 0.25962252066904723, Train F1: 0.6659218920236593\n"
     ]
    },
    {
     "name": "stderr",
     "output_type": "stream",
     "text": [
      " 61%|█████████████████████████▌                | 79/130 [03:48<02:27,  2.90s/it]"
     ]
    },
    {
     "name": "stdout",
     "output_type": "stream",
     "text": [
      "Epoch 79/130, Train Loss: 0.18071653232687995, Val Loss: 0.9029785990715027, Val F1: 0.2462894854952894, Train F1: 0.6685335811164137\n"
     ]
    },
    {
     "name": "stderr",
     "output_type": "stream",
     "text": [
      " 62%|█████████████████████████▊                | 80/130 [03:51<02:24,  2.89s/it]"
     ]
    },
    {
     "name": "stdout",
     "output_type": "stream",
     "text": [
      "Epoch 80/130, Train Loss: 0.1787150258582736, Val Loss: 0.8908109068870544, Val F1: 0.25131923959584185, Train F1: 0.6703490695265673\n"
     ]
    },
    {
     "name": "stderr",
     "output_type": "stream",
     "text": [
      " 62%|██████████████████████████▏               | 81/130 [03:54<02:21,  2.89s/it]"
     ]
    },
    {
     "name": "stdout",
     "output_type": "stream",
     "text": [
      "Epoch 81/130, Train Loss: 0.17752746173313685, Val Loss: 0.9142554998397827, Val F1: 0.2468682942003588, Train F1: 0.6767466085678769\n"
     ]
    },
    {
     "name": "stderr",
     "output_type": "stream",
     "text": [
      " 63%|██████████████████████████▍               | 82/130 [03:57<02:18,  2.88s/it]"
     ]
    },
    {
     "name": "stdout",
     "output_type": "stream",
     "text": [
      "Epoch 82/130, Train Loss: 0.176018987856214, Val Loss: 0.9265791177749634, Val F1: 0.243731522709605, Train F1: 0.6812441001314409\n"
     ]
    },
    {
     "name": "stderr",
     "output_type": "stream",
     "text": [
      " 64%|██████████████████████████▊               | 83/130 [04:00<02:15,  2.89s/it]"
     ]
    },
    {
     "name": "stdout",
     "output_type": "stream",
     "text": [
      "Epoch 83/130, Train Loss: 0.17432938681708443, Val Loss: 0.9454013109207153, Val F1: 0.24368084648849087, Train F1: 0.6859164896973583\n"
     ]
    },
    {
     "name": "stderr",
     "output_type": "stream",
     "text": [
      " 65%|███████████████████████████▏              | 84/130 [04:03<02:12,  2.89s/it]"
     ]
    },
    {
     "name": "stdout",
     "output_type": "stream",
     "text": [
      "Epoch 84/130, Train Loss: 0.17110482189390394, Val Loss: 0.938464879989624, Val F1: 0.24388959809233376, Train F1: 0.6899551236785916\n"
     ]
    },
    {
     "name": "stderr",
     "output_type": "stream",
     "text": [
      " 65%|███████████████████████████▍              | 85/130 [04:06<02:09,  2.88s/it]"
     ]
    },
    {
     "name": "stdout",
     "output_type": "stream",
     "text": [
      "Epoch 85/130, Train Loss: 0.1697360465214366, Val Loss: 0.9569271206855774, Val F1: 0.2425513220134123, Train F1: 0.6953190071994435\n"
     ]
    },
    {
     "name": "stderr",
     "output_type": "stream",
     "text": [
      " 66%|███████████████████████████▊              | 86/130 [04:08<02:06,  2.88s/it]"
     ]
    },
    {
     "name": "stdout",
     "output_type": "stream",
     "text": [
      "Epoch 86/130, Train Loss: 0.16727501603346023, Val Loss: 0.9391646981239319, Val F1: 0.2513995903801725, Train F1: 0.7022047145613637\n"
     ]
    },
    {
     "name": "stderr",
     "output_type": "stream",
     "text": [
      " 67%|████████████████████████████              | 87/130 [04:11<02:03,  2.87s/it]"
     ]
    },
    {
     "name": "stdout",
     "output_type": "stream",
     "text": [
      "Epoch 87/130, Train Loss: 0.1693389472507295, Val Loss: 0.964579701423645, Val F1: 0.2502639617393181, Train F1: 0.695193294712982\n"
     ]
    },
    {
     "name": "stderr",
     "output_type": "stream",
     "text": [
      " 68%|████████████████████████████▍             | 88/130 [04:14<02:00,  2.87s/it]"
     ]
    },
    {
     "name": "stdout",
     "output_type": "stream",
     "text": [
      "Epoch 88/130, Train Loss: 0.16764283038320996, Val Loss: 0.9356893301010132, Val F1: 0.26178069337433263, Train F1: 0.7004886185332309\n"
     ]
    },
    {
     "name": "stderr",
     "output_type": "stream",
     "text": [
      " 68%|████████████████████████████▊             | 89/130 [04:17<01:58,  2.89s/it]"
     ]
    },
    {
     "name": "stdout",
     "output_type": "stream",
     "text": [
      "Epoch 89/130, Train Loss: 0.16525692953949883, Val Loss: 0.9710422158241272, Val F1: 0.2478728746032863, Train F1: 0.7043288456130715\n"
     ]
    },
    {
     "name": "stderr",
     "output_type": "stream",
     "text": [
      " 69%|█████████████████████████████             | 90/130 [04:20<01:55,  2.89s/it]"
     ]
    },
    {
     "name": "stdout",
     "output_type": "stream",
     "text": [
      "Epoch 90/130, Train Loss: 0.1612187402825507, Val Loss: 0.9751321077346802, Val F1: 0.24997491192099586, Train F1: 0.7189614462092847\n"
     ]
    },
    {
     "name": "stderr",
     "output_type": "stream",
     "text": [
      " 70%|█████████████████████████████▍            | 91/130 [04:23<01:52,  2.89s/it]"
     ]
    },
    {
     "name": "stdout",
     "output_type": "stream",
     "text": [
      "Epoch 91/130, Train Loss: 0.15961082326987433, Val Loss: 1.0012052059173584, Val F1: 0.24066375876832247, Train F1: 0.7182939996017897\n"
     ]
    },
    {
     "name": "stderr",
     "output_type": "stream",
     "text": [
      " 71%|█████████████████████████████▋            | 92/130 [04:26<01:49,  2.89s/it]"
     ]
    },
    {
     "name": "stdout",
     "output_type": "stream",
     "text": [
      "Epoch 92/130, Train Loss: 0.15823201527671207, Val Loss: 1.0245612859725952, Val F1: 0.23778622731004923, Train F1: 0.7240383514825467\n"
     ]
    },
    {
     "name": "stderr",
     "output_type": "stream",
     "text": [
      " 72%|██████████████████████████████            | 93/130 [04:29<01:46,  2.88s/it]"
     ]
    },
    {
     "name": "stdout",
     "output_type": "stream",
     "text": [
      "Epoch 93/130, Train Loss: 0.15550807343115883, Val Loss: 1.0058704614639282, Val F1: 0.24550773180072416, Train F1: 0.7227350921129029\n"
     ]
    },
    {
     "name": "stderr",
     "output_type": "stream",
     "text": [
      " 72%|██████████████████████████████▎           | 94/130 [04:32<01:43,  2.89s/it]"
     ]
    },
    {
     "name": "stdout",
     "output_type": "stream",
     "text": [
      "Epoch 94/130, Train Loss: 0.1541899578675391, Val Loss: 1.0234651565551758, Val F1: 0.25105968154826, Train F1: 0.7291468946286968\n"
     ]
    },
    {
     "name": "stderr",
     "output_type": "stream",
     "text": [
      " 73%|██████████████████████████████▋           | 95/130 [04:34<01:40,  2.88s/it]"
     ]
    },
    {
     "name": "stdout",
     "output_type": "stream",
     "text": [
      "Epoch 95/130, Train Loss: 0.15225175626221157, Val Loss: 1.0402146577835083, Val F1: 0.24434351668778923, Train F1: 0.7358663493206881\n"
     ]
    },
    {
     "name": "stderr",
     "output_type": "stream",
     "text": [
      " 74%|███████████████████████████████           | 96/130 [04:37<01:37,  2.88s/it]"
     ]
    },
    {
     "name": "stdout",
     "output_type": "stream",
     "text": [
      "Epoch 96/130, Train Loss: 0.15188962232971948, Val Loss: 1.0408692359924316, Val F1: 0.24599419653054153, Train F1: 0.7385114457389054\n"
     ]
    },
    {
     "name": "stderr",
     "output_type": "stream",
     "text": [
      " 75%|███████████████████████████████▎          | 97/130 [04:40<01:34,  2.88s/it]"
     ]
    },
    {
     "name": "stdout",
     "output_type": "stream",
     "text": [
      "Epoch 97/130, Train Loss: 0.1536016088156473, Val Loss: 1.0444506406784058, Val F1: 0.24034068200211342, Train F1: 0.7329355172484224\n"
     ]
    },
    {
     "name": "stderr",
     "output_type": "stream",
     "text": [
      " 75%|███████████████████████████████▋          | 98/130 [04:43<01:31,  2.87s/it]"
     ]
    },
    {
     "name": "stdout",
     "output_type": "stream",
     "text": [
      "Epoch 98/130, Train Loss: 0.15040537892352968, Val Loss: 1.0570482015609741, Val F1: 0.23944150559039223, Train F1: 0.7417805727832416\n"
     ]
    },
    {
     "name": "stderr",
     "output_type": "stream",
     "text": [
      " 76%|███████████████████████████████▉          | 99/130 [04:46<01:29,  2.87s/it]"
     ]
    },
    {
     "name": "stdout",
     "output_type": "stream",
     "text": [
      "Epoch 99/130, Train Loss: 0.1478956982729927, Val Loss: 1.075495958328247, Val F1: 0.23842581776838406, Train F1: 0.7495894859030622\n"
     ]
    },
    {
     "name": "stderr",
     "output_type": "stream",
     "text": [
      " 77%|███████████████████████████████▌         | 100/130 [04:49<01:26,  2.90s/it]"
     ]
    },
    {
     "name": "stdout",
     "output_type": "stream",
     "text": [
      "Epoch 100/130, Train Loss: 0.14590279959023944, Val Loss: 1.077284336090088, Val F1: 0.23996199459221615, Train F1: 0.7453765984476435\n"
     ]
    },
    {
     "name": "stderr",
     "output_type": "stream",
     "text": [
      " 78%|███████████████████████████████▊         | 101/130 [04:52<01:23,  2.89s/it]"
     ]
    },
    {
     "name": "stdout",
     "output_type": "stream",
     "text": [
      "Epoch 101/130, Train Loss: 0.14588452899266804, Val Loss: 1.0828964710235596, Val F1: 0.24691917071558933, Train F1: 0.7611322312736883\n"
     ]
    },
    {
     "name": "stderr",
     "output_type": "stream",
     "text": [
      " 78%|████████████████████████████████▏        | 102/130 [04:55<01:20,  2.88s/it]"
     ]
    },
    {
     "name": "stdout",
     "output_type": "stream",
     "text": [
      "Epoch 102/130, Train Loss: 0.14646603344451814, Val Loss: 1.0823514461517334, Val F1: 0.23685624133749308, Train F1: 0.7486123968095807\n"
     ]
    },
    {
     "name": "stderr",
     "output_type": "stream",
     "text": [
      " 79%|████████████████████████████████▍        | 103/130 [04:57<01:17,  2.88s/it]"
     ]
    },
    {
     "name": "stdout",
     "output_type": "stream",
     "text": [
      "Epoch 103/130, Train Loss: 0.14696008262653198, Val Loss: 1.093841791152954, Val F1: 0.23558732106504526, Train F1: 0.7509352790572565\n"
     ]
    },
    {
     "name": "stderr",
     "output_type": "stream",
     "text": [
      " 80%|████████████████████████████████▊        | 104/130 [05:00<01:14,  2.88s/it]"
     ]
    },
    {
     "name": "stdout",
     "output_type": "stream",
     "text": [
      "Epoch 104/130, Train Loss: 0.14657681045078097, Val Loss: 1.090232491493225, Val F1: 0.23760971453709145, Train F1: 0.7470770500114499\n"
     ]
    },
    {
     "name": "stderr",
     "output_type": "stream",
     "text": [
      " 81%|█████████████████████████████████        | 105/130 [05:03<01:11,  2.88s/it]"
     ]
    },
    {
     "name": "stdout",
     "output_type": "stream",
     "text": [
      "Epoch 105/130, Train Loss: 0.14429031844649995, Val Loss: 1.1403809785842896, Val F1: 0.2346618758694454, Train F1: 0.7461864973727254\n"
     ]
    },
    {
     "name": "stderr",
     "output_type": "stream",
     "text": [
      " 82%|█████████████████████████████████▍       | 106/130 [05:06<01:09,  2.88s/it]"
     ]
    },
    {
     "name": "stdout",
     "output_type": "stream",
     "text": [
      "Epoch 106/130, Train Loss: 0.14087596322808946, Val Loss: 1.1121617555618286, Val F1: 0.2390450704703733, Train F1: 0.7620304323729972\n"
     ]
    },
    {
     "name": "stderr",
     "output_type": "stream",
     "text": [
      " 82%|█████████████████████████████████▋       | 107/130 [05:09<01:06,  2.87s/it]"
     ]
    },
    {
     "name": "stdout",
     "output_type": "stream",
     "text": [
      "Epoch 107/130, Train Loss: 0.13678147454583456, Val Loss: 1.1321390867233276, Val F1: 0.24006855772428445, Train F1: 0.7691519090162895\n"
     ]
    },
    {
     "name": "stderr",
     "output_type": "stream",
     "text": [
      " 83%|██████████████████████████████████       | 108/130 [05:12<01:03,  2.87s/it]"
     ]
    },
    {
     "name": "stdout",
     "output_type": "stream",
     "text": [
      "Epoch 108/130, Train Loss: 0.13529356864709702, Val Loss: 1.176776647567749, Val F1: 0.23024140708699453, Train F1: 0.7739222332668552\n"
     ]
    },
    {
     "name": "stderr",
     "output_type": "stream",
     "text": [
      " 84%|██████████████████████████████████▍      | 109/130 [05:15<01:00,  2.87s/it]"
     ]
    },
    {
     "name": "stdout",
     "output_type": "stream",
     "text": [
      "Epoch 109/130, Train Loss: 0.1351562850768604, Val Loss: 1.1543679237365723, Val F1: 0.24320769370417258, Train F1: 0.7761951980130125\n"
     ]
    },
    {
     "name": "stderr",
     "output_type": "stream",
     "text": [
      " 85%|██████████████████████████████████▋      | 110/130 [05:18<00:57,  2.87s/it]"
     ]
    },
    {
     "name": "stdout",
     "output_type": "stream",
     "text": [
      "Epoch 110/130, Train Loss: 0.13459825421136523, Val Loss: 1.151792287826538, Val F1: 0.23710912245748386, Train F1: 0.7755831907547486\n"
     ]
    },
    {
     "name": "stderr",
     "output_type": "stream",
     "text": [
      " 85%|███████████████████████████████████      | 111/130 [05:20<00:54,  2.89s/it]"
     ]
    },
    {
     "name": "stdout",
     "output_type": "stream",
     "text": [
      "Epoch 111/130, Train Loss: 0.1337008551945762, Val Loss: 1.1741374731063843, Val F1: 0.2334309830660793, Train F1: 0.7826165804656657\n"
     ]
    },
    {
     "name": "stderr",
     "output_type": "stream",
     "text": [
      " 86%|███████████████████████████████████▎     | 112/130 [05:23<00:51,  2.88s/it]"
     ]
    },
    {
     "name": "stdout",
     "output_type": "stream",
     "text": [
      "Epoch 112/130, Train Loss: 0.13498140776914264, Val Loss: 1.187339425086975, Val F1: 0.23390473433544973, Train F1: 0.7733754534696999\n"
     ]
    },
    {
     "name": "stderr",
     "output_type": "stream",
     "text": [
      " 87%|███████████████████████████████████▋     | 113/130 [05:26<00:48,  2.88s/it]"
     ]
    },
    {
     "name": "stdout",
     "output_type": "stream",
     "text": [
      "Epoch 113/130, Train Loss: 0.13483040543302657, Val Loss: 1.1677727699279785, Val F1: 0.23814959067895153, Train F1: 0.7788994951060985\n"
     ]
    },
    {
     "name": "stderr",
     "output_type": "stream",
     "text": [
      " 88%|███████████████████████████████████▉     | 114/130 [05:29<00:46,  2.88s/it]"
     ]
    },
    {
     "name": "stdout",
     "output_type": "stream",
     "text": [
      "Epoch 114/130, Train Loss: 0.13191814152967363, Val Loss: 1.1697099208831787, Val F1: 0.24505255320552963, Train F1: 0.7840070198829302\n"
     ]
    },
    {
     "name": "stderr",
     "output_type": "stream",
     "text": [
      " 88%|████████████████████████████████████▎    | 115/130 [05:32<00:43,  2.87s/it]"
     ]
    },
    {
     "name": "stdout",
     "output_type": "stream",
     "text": [
      "Epoch 115/130, Train Loss: 0.1313210167582073, Val Loss: 1.1953699588775635, Val F1: 0.23452912888843183, Train F1: 0.7831836276576082\n"
     ]
    },
    {
     "name": "stderr",
     "output_type": "stream",
     "text": [
      " 89%|████████████████████████████████████▌    | 116/130 [05:35<00:40,  2.87s/it]"
     ]
    },
    {
     "name": "stdout",
     "output_type": "stream",
     "text": [
      "Epoch 116/130, Train Loss: 0.12937671998663555, Val Loss: 1.2180441617965698, Val F1: 0.2329789676282578, Train F1: 0.7858513247267576\n"
     ]
    },
    {
     "name": "stderr",
     "output_type": "stream",
     "text": [
      " 90%|████████████████████████████████████▉    | 117/130 [05:38<00:37,  2.87s/it]"
     ]
    },
    {
     "name": "stdout",
     "output_type": "stream",
     "text": [
      "Epoch 117/130, Train Loss: 0.12717133287399535, Val Loss: 1.1985419988632202, Val F1: 0.24094220052754114, Train F1: 0.7963295210325496\n"
     ]
    },
    {
     "name": "stderr",
     "output_type": "stream",
     "text": [
      " 91%|█████████████████████████████████████▏   | 118/130 [05:41<00:34,  2.87s/it]"
     ]
    },
    {
     "name": "stdout",
     "output_type": "stream",
     "text": [
      "Epoch 118/130, Train Loss: 0.12535508473714194, Val Loss: 1.2434056997299194, Val F1: 0.22974102563318605, Train F1: 0.7998870250026071\n"
     ]
    },
    {
     "name": "stderr",
     "output_type": "stream",
     "text": [
      " 92%|█████████████████████████████████████▌   | 119/130 [05:43<00:31,  2.87s/it]"
     ]
    },
    {
     "name": "stdout",
     "output_type": "stream",
     "text": [
      "Epoch 119/130, Train Loss: 0.12781930572929837, Val Loss: 1.2013734579086304, Val F1: 0.2427128772279454, Train F1: 0.7945234090952933\n"
     ]
    },
    {
     "name": "stderr",
     "output_type": "stream",
     "text": [
      " 92%|█████████████████████████████████████▊   | 120/130 [05:46<00:28,  2.87s/it]"
     ]
    },
    {
     "name": "stdout",
     "output_type": "stream",
     "text": [
      "Epoch 120/130, Train Loss: 0.12706041123185838, Val Loss: 1.2460278272628784, Val F1: 0.23323454709586983, Train F1: 0.7947879173602813\n"
     ]
    },
    {
     "name": "stderr",
     "output_type": "stream",
     "text": [
      " 93%|██████████████████████████████████████▏  | 121/130 [05:49<00:25,  2.87s/it]"
     ]
    },
    {
     "name": "stdout",
     "output_type": "stream",
     "text": [
      "Epoch 121/130, Train Loss: 0.12526029490289234, Val Loss: 1.2247196435928345, Val F1: 0.24006769967157202, Train F1: 0.8044178487412638\n"
     ]
    },
    {
     "name": "stderr",
     "output_type": "stream",
     "text": [
      " 94%|██████████████████████████████████████▍  | 122/130 [05:52<00:23,  2.89s/it]"
     ]
    },
    {
     "name": "stdout",
     "output_type": "stream",
     "text": [
      "Epoch 122/130, Train Loss: 0.12491836387013631, Val Loss: 1.2481780052185059, Val F1: 0.24055414106028794, Train F1: 0.8064076004240731\n"
     ]
    },
    {
     "name": "stderr",
     "output_type": "stream",
     "text": [
      " 95%|██████████████████████████████████████▊  | 123/130 [05:55<00:20,  2.89s/it]"
     ]
    },
    {
     "name": "stdout",
     "output_type": "stream",
     "text": [
      "Epoch 123/130, Train Loss: 0.1270526498556137, Val Loss: 1.2479690313339233, Val F1: 0.2413426481300776, Train F1: 0.7923989573657126\n"
     ]
    },
    {
     "name": "stderr",
     "output_type": "stream",
     "text": [
      " 95%|███████████████████████████████████████  | 124/130 [05:58<00:17,  2.88s/it]"
     ]
    },
    {
     "name": "stdout",
     "output_type": "stream",
     "text": [
      "Epoch 124/130, Train Loss: 0.12664084810586201, Val Loss: 1.2364611625671387, Val F1: 0.2411347504528418, Train F1: 0.7937977035068254\n"
     ]
    },
    {
     "name": "stderr",
     "output_type": "stream",
     "text": [
      " 96%|███████████████████████████████████████▍ | 125/130 [06:01<00:14,  2.88s/it]"
     ]
    },
    {
     "name": "stdout",
     "output_type": "stream",
     "text": [
      "Epoch 125/130, Train Loss: 0.12754953889146683, Val Loss: 1.248267650604248, Val F1: 0.23515501084267512, Train F1: 0.7945197343622764\n"
     ]
    },
    {
     "name": "stderr",
     "output_type": "stream",
     "text": [
      " 97%|███████████████████████████████████████▋ | 126/130 [06:04<00:11,  2.87s/it]"
     ]
    },
    {
     "name": "stdout",
     "output_type": "stream",
     "text": [
      "Epoch 126/130, Train Loss: 0.13131885112278044, Val Loss: 1.2421419620513916, Val F1: 0.23991011644906723, Train F1: 0.7797815737670972\n"
     ]
    },
    {
     "name": "stderr",
     "output_type": "stream",
     "text": [
      " 98%|████████████████████████████████████████ | 127/130 [06:06<00:08,  2.87s/it]"
     ]
    },
    {
     "name": "stdout",
     "output_type": "stream",
     "text": [
      "Epoch 127/130, Train Loss: 0.12411574451696306, Val Loss: 1.279799461364746, Val F1: 0.23430723567826298, Train F1: 0.8080212399213828\n"
     ]
    },
    {
     "name": "stderr",
     "output_type": "stream",
     "text": [
      " 98%|████████████████████████████████████████▎| 128/130 [06:09<00:05,  2.87s/it]"
     ]
    },
    {
     "name": "stdout",
     "output_type": "stream",
     "text": [
      "Epoch 128/130, Train Loss: 0.1187188405366171, Val Loss: 1.2800081968307495, Val F1: 0.23803150921039531, Train F1: 0.8105163111458159\n"
     ]
    },
    {
     "name": "stderr",
     "output_type": "stream",
     "text": [
      " 99%|████████████████████████████████████████▋| 129/130 [06:12<00:02,  2.87s/it]"
     ]
    },
    {
     "name": "stdout",
     "output_type": "stream",
     "text": [
      "Epoch 129/130, Train Loss: 0.11553797196774256, Val Loss: 1.295155644416809, Val F1: 0.2402822242709331, Train F1: 0.817035872894109\n"
     ]
    },
    {
     "name": "stderr",
     "output_type": "stream",
     "text": [
      "100%|█████████████████████████████████████████| 130/130 [06:15<00:00,  2.89s/it]"
     ]
    },
    {
     "name": "stdout",
     "output_type": "stream",
     "text": [
      "Epoch 130/130, Train Loss: 0.11316650703785912, Val Loss: 1.3415862321853638, Val F1: 0.23240496118557014, Train F1: 0.824216146285074\n"
     ]
    },
    {
     "name": "stderr",
     "output_type": "stream",
     "text": [
      "\n"
     ]
    }
   ],
   "source": [
    "\n",
    "\n",
    "# Assuming you have your data loaded into variables `X_train`, `y_train`, `X_val`, `y_val`\n",
    "# X_train: (906, 83, 300), y_train: (906, 83, 3)\n",
    "# X_val: (val_size, 83, 300), y_val: (val_size, 83, 3)\n",
    "\n",
    "# Convert data to PyTorch tensors\n",
    "# Convert data to PyTorch tensors\n",
    "X_train_tensor = torch.tensor(x_train, dtype=torch.float32)\n",
    "y_train_tensor = torch.tensor(y_train, dtype=torch.long)\n",
    "X_val_tensor = torch.tensor(x_val, dtype=torch.float32)\n",
    "y_val_tensor = torch.tensor(y_val, dtype=torch.long)\n",
    "length_train_tensor = torch.tensor(length_train)\n",
    "length_val_tensor = torch.tensor(length_val)\n",
    "\n",
    "# Define the RNN model\n",
    "class GRUTagger(nn.Module):\n",
    "    def __init__(self, input_size, hidden_size, output_size):\n",
    "        super(GRUTagger, self).__init__()\n",
    "        self.gru = nn.GRU(input_size, hidden_size, batch_first=True)\n",
    "        self.fc = nn.Linear(hidden_size, output_size)\n",
    "\n",
    "    def forward(self, x):\n",
    "        h0 = torch.zeros(1, x.size(0), self.gru.hidden_size).to(x.device)\n",
    "        out, _ = self.gru(x, h0)\n",
    "        out = self.fc(out)\n",
    "        return out\n",
    "\n",
    "# Define hyperparameters\n",
    "input_size = 300  # Assuming word2vec embeddings size\n",
    "hidden_size = 128\n",
    "output_size = 28\n",
    "learning_rate = 0.001\n",
    "num_epochs = 130\n",
    "batch_size = 128\n",
    "\n",
    "# Create DataLoader\n",
    "train_dataset = TensorDataset(X_train_tensor, y_train_tensor,length_train_tensor)\n",
    "train_loader = DataLoader(train_dataset, batch_size=batch_size, shuffle=True)\n",
    "\n",
    "# Initialize model, loss, and optimizer\n",
    "model = GRUTagger(input_size, hidden_size, output_size)\n",
    "criterion = nn.CrossEntropyLoss()\n",
    "optimizer = optim.Adam(model.parameters(), lr=learning_rate)\n",
    "\n",
    "# Training loop\n",
    "train_losses = []\n",
    "val_losses = []\n",
    "train_f1_scores = []\n",
    "val_f1_scores = []\n",
    "\n",
    "for epoch in tqdm(range(num_epochs)):\n",
    "    model.train()\n",
    "    total_loss = 0\n",
    "    total_f1=0\n",
    "    for batch_X, batch_y,l in train_loader:\n",
    "        optimizer.zero_grad()\n",
    "        outputs = model(batch_X)\n",
    "        outputs_r = [row[:index] for row, index in zip(outputs, l)]\n",
    "        outputs_r_flat = torch.cat(outputs_r)\n",
    "        y_pred_train = torch.argmax(outputs, dim=2)\n",
    "        y_pred_padd_r = [row[:index] for row, index in zip(y_pred_train, l)] \n",
    "        y_train_flat = torch.cat(y_pred_padd_r)\n",
    "        batch_y_r =  [row[:index] for row, index in zip(batch_y, l)]\n",
    "        y_pred_flat = torch.cat(batch_y_r)\n",
    "        loss = criterion(outputs_r_flat,y_pred_flat )\n",
    "        loss.backward()\n",
    "        optimizer.step()\n",
    "        total_loss += loss.item()\n",
    "        train_f1 = f1_score(y_train_flat, y_pred_flat, average='macro')\n",
    "        total_f1 += train_f1\n",
    "    train_f1_scores.append(total_f1/ len(train_loader))\n",
    "    train_losses.append(total_loss / len(train_loader))\n",
    "\n",
    "    # Validation\n",
    "    model.eval()\n",
    "    with torch.no_grad():\n",
    "        val_outputs = model(X_val_tensor)\n",
    "        # Calculate F1 score\n",
    "        y_pred = torch.argmax(val_outputs, dim=2)\n",
    "        y_pred_val_padd_r = [row[:index] for row, index in zip(y_pred, length_val_tensor)] \n",
    "        y_pred_val_flat = torch.cat(y_pred_val_padd_r)\n",
    "        y_val_tensor_r =  [row[:index] for row, index in zip(y_val_tensor, length_val_tensor)]\n",
    "        y_val_tensor_r_f = torch.cat(y_val_tensor_r)\n",
    "        \n",
    "        val_outputs_r = [row[:index] for row, index in zip(val_outputs, length_val_tensor)]\n",
    "        val_outputs_r_f = torch.cat(val_outputs_r)\n",
    "        \n",
    "        val_loss = criterion(val_outputs_r_f,y_val_tensor_r_f)\n",
    "        val_losses.append(val_loss.item())\n",
    "\n",
    "        \n",
    "        val_f1 = f1_score(y_val_tensor_r_f, y_pred_val_flat, average='macro')\n",
    "        val_f1_scores.append(val_f1)\n",
    "\n",
    "    print(f\"Epoch {epoch+1}/{num_epochs}, Train Loss: {train_losses[-1]}, Val Loss: {val_losses[-1]}, Val F1: {val_f1}, Train F1: {train_f1_scores[-1]}\")\n",
    "    "
   ]
  },
  {
   "cell_type": "code",
   "execution_count": 13,
   "metadata": {},
   "outputs": [],
   "source": [
    "# Save the model\n",
    "torch.save(model.state_dict(), 't1_model3_glove.pth')"
   ]
  },
  {
   "cell_type": "code",
   "execution_count": 14,
   "metadata": {},
   "outputs": [
    {
     "data": {
      "image/png": "[encoded data removed]",
      "text/plain": [
       "<Figure size 1200x500 with 2 Axes>"
      ]
     },
     "metadata": {},
     "output_type": "display_data"
    }
   ],
   "source": [
    "# Plotting\n",
    "plt.figure(figsize=(12, 5))\n",
    "plt.subplot(1, 2, 1)\n",
    "plt.plot(range(1, num_epochs + 1), train_losses, label='Train Loss')\n",
    "plt.plot(range(1, num_epochs + 1), val_losses, label='Val Loss')\n",
    "plt.xlabel('Epochs')\n",
    "plt.ylabel('Loss')\n",
    "plt.legend()\n",
    "\n",
    "plt.subplot(1, 2, 2)\n",
    "plt.plot(range(1, num_epochs + 1), train_f1_scores, label='Train F1 Score')\n",
    "plt.plot(range(1, num_epochs + 1), val_f1_scores, label='Val F1 Score')\n",
    "plt.xlabel('Epochs')\n",
    "plt.ylabel('F1 Score')\n",
    "plt.legend()\n",
    "\n",
    "plt.show()"
   ]
  },
  {
   "cell_type": "code",
   "execution_count": null,
   "metadata": {},
   "outputs": [],
   "source": []
  },
  {
   "cell_type": "code",
   "execution_count": null,
   "metadata": {},
   "outputs": [],
   "source": []
  }
 ],
 "metadata": {
  "colab": {
   "provenance": []
  },
  "kernelspec": {
   "display_name": "Python 3 (ipykernel)",
   "language": "python",
   "name": "python3"
  },
  "language_info": {
   "codemirror_mode": {
    "name": "ipython",
    "version": 3
   },
   "file_extension": ".py",
   "mimetype": "text/x-python",
   "name": "python",
   "nbconvert_exporter": "python",
   "pygments_lexer": "ipython3",
   "version": "3.11.8"
  }
 },
 "nbformat": 4,
 "nbformat_minor": 4
}
